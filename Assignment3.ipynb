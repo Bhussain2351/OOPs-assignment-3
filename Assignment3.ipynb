{
 "cells": [
  {
   "cell_type": "code",
   "execution_count": 1,
   "id": "7151cf12-0689-41a0-ba9e-25d24664dbc5",
   "metadata": {},
   "outputs": [],
   "source": [
    "# Abstraction, in the context of OPP, refers to the ability to hide complex implementation details and show only the necessary \n",
    "# features of an Object.\n",
    "\n",
    "# Making coffee in a coffee machine is a good example of Abstraction, Yu need to provide water and coffee beans. The thing you don't need to know is how \n",
    "# the coffee machine is working internally to brew a fresh cup of delicious coffee.\n"
   ]
  },
  {
   "cell_type": "code",
   "execution_count": 2,
   "id": "d34cee15-6ef9-4bad-91d5-c8e31b9b76f6",
   "metadata": {},
   "outputs": [],
   "source": [
    "# Abstraction hides the internal implementation, and creates the skeleton of what is required for that Entity\n",
    "# Encapsulation hides the data from external world . It protects the data within class, and exposes methods to the world.\n",
    "# It is a process of binding or wrapping the data into a single entity.This keeps the data safe from outside interface.\n",
    "# It is implemented as private and protected.\n"
   ]
  },
  {
   "cell_type": "code",
   "execution_count": 1,
   "id": "ad046b56-abc3-4fad-9d43-1505a098a3c1",
   "metadata": {},
   "outputs": [],
   "source": [
    "#Abstraction\n",
    "\n",
    "import abc\n",
    "\n",
    "class pwskills:\n",
    "    @abc.abstractmethod\n",
    "    def student_details(self):\n",
    "        pass"
   ]
  },
  {
   "cell_type": "code",
   "execution_count": 2,
   "id": "4a5cb0f2-b4b7-4d63-86d4-6cb5f944086a",
   "metadata": {},
   "outputs": [],
   "source": [
    "# Encapsulation\n",
    "\n",
    "class car:\n",
    "    def __init__(self,name,price):\n",
    "        self.__name=name\n",
    "        self.__price=price\n",
    "        "
   ]
  },
  {
   "cell_type": "code",
   "execution_count": 1,
   "id": "5534203e-e516-4a8e-95f1-46acde4a9aab",
   "metadata": {},
   "outputs": [],
   "source": [
    "# Python has a module called abc ( abstract base class) that offers the necessary tools for crafting an abstract base class and is a concept in Python\n",
    "# classes based on abstraction. Abstraction is an integral part of object-oriented programming.\n",
    "# Abstraction is what we call hiding the internal process of the program from users."
   ]
  },
  {
   "cell_type": "code",
   "execution_count": 2,
   "id": "f1ca0be8-24d5-4a42-9ad1-2d8116ad5c90",
   "metadata": {},
   "outputs": [],
   "source": [
    "# In python abstraction can be achieved by using abstract classes and interfaces"
   ]
  },
  {
   "cell_type": "code",
   "execution_count": null,
   "id": "5c03fd68-07c9-4827-858f-ce684c0908ab",
   "metadata": {},
   "outputs": [],
   "source": [
    "# NO, Abstract class and interface can only be used for inheritance not for Object creation.\n",
    "# When an abstract class is subclassed, the subclass usually provides implementations for all of the abstract methods in its parent class."
   ]
  }
 ],
 "metadata": {
  "kernelspec": {
   "display_name": "Python 3 (ipykernel)",
   "language": "python",
   "name": "python3"
  },
  "language_info": {
   "codemirror_mode": {
    "name": "ipython",
    "version": 3
   },
   "file_extension": ".py",
   "mimetype": "text/x-python",
   "name": "python",
   "nbconvert_exporter": "python",
   "pygments_lexer": "ipython3",
   "version": "3.10.8"
  }
 },
 "nbformat": 4,
 "nbformat_minor": 5
}
